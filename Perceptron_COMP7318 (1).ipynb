{
 "cells": [
  {
   "cell_type": "code",
   "execution_count": 1,
   "metadata": {},
   "outputs": [],
   "source": [
    "import pandas as pd\n",
    "import numpy as np\n",
    "from sklearn.preprocessing import StandardScaler\n",
    "from sklearn import preprocessing\n",
    "\n",
    "from sklearn.model_selection import train_test_split\n",
    "from sklearn.metrics import confusion_matrix\n",
    "import matplotlib.pyplot as plt\n",
    "np.random.seed(16)\n",
    "from sklearn.metrics import roc_curve\n",
    "from keras.models import Sequential"
   ]
  },
  {
   "cell_type": "code",
   "execution_count": 48,
   "metadata": {
    "scrolled": true
   },
   "outputs": [
    {
     "data": {
      "text/plain": [
       "<bound method NDFrame.describe of      Pregnancies  Glucose  BloodPressure  SkinThickness  Insulin   BMI  \\\n",
       "0              6      148             72             35        0  33.6   \n",
       "1              1       85             66             29        0  26.6   \n",
       "2              8      183             64              0        0  23.3   \n",
       "3              1       89             66             23       94  28.1   \n",
       "4              0      137             40             35      168  43.1   \n",
       "..           ...      ...            ...            ...      ...   ...   \n",
       "763           10      101             76             48      180  32.9   \n",
       "764            2      122             70             27        0  36.8   \n",
       "765            5      121             72             23      112  26.2   \n",
       "766            1      126             60              0        0  30.1   \n",
       "767            1       93             70             31        0  30.4   \n",
       "\n",
       "     DiabetesPedigreeFunction  Age  Outcome  \n",
       "0                       0.627   50        1  \n",
       "1                       0.351   31        0  \n",
       "2                       0.672   32        1  \n",
       "3                       0.167   21        0  \n",
       "4                       2.288   33        1  \n",
       "..                        ...  ...      ...  \n",
       "763                     0.171   63        0  \n",
       "764                     0.340   27        0  \n",
       "765                     0.245   30        0  \n",
       "766                     0.349   47        1  \n",
       "767                     0.315   23        0  \n",
       "\n",
       "[768 rows x 9 columns]>"
      ]
     },
     "execution_count": 48,
     "metadata": {},
     "output_type": "execute_result"
    }
   ],
   "source": [
    "DB = pd.read_csv('diabetes.csv')\n",
    "\n",
    "DB.describe"
   ]
  },
  {
   "cell_type": "code",
   "execution_count": 46,
   "metadata": {},
   "outputs": [],
   "source": [
    "def PP(DB):\n",
    "    \n",
    "    DB['SkinThickness'] = DB['SkinThickness'].replace(0, np.nan)\n",
    "    DB['Glucose'] = DB['Glucose'].replace(0, np.nan)\n",
    "    DB['Insulin'] = DB['Insulin'].replace(0, np.nan)\n",
    "    DB['BMI'] = DB['BMI'].replace(0, np.nan)\n",
    "    DB['BloodPressure'] = DB['BloodPressure'].replace(0, np.nan)\n",
    "    \n",
    "    DB['SkinThickness'] = DB['SkinThickness'].fillna(DB['SkinThickness'].mean())\n",
    "    DB['Glucose'] = DB['Glucose'].fillna(DB['Glucose'].mean())\n",
    "    DB['Insulin'] = DB['Insulin'].fillna(DB['Insulin'].mean())\n",
    "    DB['BMI'] = DB['BMI'].fillna(DB['BMI'].mean())\n",
    "    DB['BloodPressure'] = DB['BloodPressure'].fillna(DB['BloodPressure'].mean())\n",
    "    \n",
    "    DB_std = preprocessing.scale(DB)\n",
    "    DB_std = pd.DataFrame(DB_std, columns = DB.columns)\n",
    "    \n",
    "    DB_std['Outcome'] = DB['Outcome']\n",
    "    DB = DB_std\n",
    "    \n",
    "\n",
    "    return DB"
   ]
  },
  {
   "cell_type": "code",
   "execution_count": 47,
   "metadata": {
    "scrolled": true
   },
   "outputs": [
    {
     "data": {
      "text/html": [
       "<div>\n",
       "<style scoped>\n",
       "    .dataframe tbody tr th:only-of-type {\n",
       "        vertical-align: middle;\n",
       "    }\n",
       "\n",
       "    .dataframe tbody tr th {\n",
       "        vertical-align: top;\n",
       "    }\n",
       "\n",
       "    .dataframe thead th {\n",
       "        text-align: right;\n",
       "    }\n",
       "</style>\n",
       "<table border=\"1\" class=\"dataframe\">\n",
       "  <thead>\n",
       "    <tr style=\"text-align: right;\">\n",
       "      <th></th>\n",
       "      <th>Pregnancies</th>\n",
       "      <th>Glucose</th>\n",
       "      <th>BloodPressure</th>\n",
       "      <th>SkinThickness</th>\n",
       "      <th>Insulin</th>\n",
       "      <th>BMI</th>\n",
       "      <th>DiabetesPedigreeFunction</th>\n",
       "      <th>Age</th>\n",
       "      <th>Outcome</th>\n",
       "    </tr>\n",
       "  </thead>\n",
       "  <tbody>\n",
       "    <tr>\n",
       "      <th>0</th>\n",
       "      <td>0.639947</td>\n",
       "      <td>0.865108</td>\n",
       "      <td>-0.033518</td>\n",
       "      <td>6.655021e-01</td>\n",
       "      <td>-2.457063e-17</td>\n",
       "      <td>0.166292</td>\n",
       "      <td>0.468492</td>\n",
       "      <td>1.425995</td>\n",
       "      <td>1</td>\n",
       "    </tr>\n",
       "    <tr>\n",
       "      <th>1</th>\n",
       "      <td>-0.844885</td>\n",
       "      <td>-1.206162</td>\n",
       "      <td>-0.529859</td>\n",
       "      <td>-1.746338e-02</td>\n",
       "      <td>-2.457063e-17</td>\n",
       "      <td>-0.852531</td>\n",
       "      <td>-0.365061</td>\n",
       "      <td>-0.190672</td>\n",
       "      <td>0</td>\n",
       "    </tr>\n",
       "    <tr>\n",
       "      <th>2</th>\n",
       "      <td>1.233880</td>\n",
       "      <td>2.015813</td>\n",
       "      <td>-0.695306</td>\n",
       "      <td>7.327087e-17</td>\n",
       "      <td>-2.457063e-17</td>\n",
       "      <td>-1.332833</td>\n",
       "      <td>0.604397</td>\n",
       "      <td>-0.105584</td>\n",
       "      <td>1</td>\n",
       "    </tr>\n",
       "    <tr>\n",
       "      <th>3</th>\n",
       "      <td>-0.844885</td>\n",
       "      <td>-1.074652</td>\n",
       "      <td>-0.529859</td>\n",
       "      <td>-7.004289e-01</td>\n",
       "      <td>-7.243887e-01</td>\n",
       "      <td>-0.634212</td>\n",
       "      <td>-0.920763</td>\n",
       "      <td>-1.041549</td>\n",
       "      <td>0</td>\n",
       "    </tr>\n",
       "    <tr>\n",
       "      <th>4</th>\n",
       "      <td>-1.141852</td>\n",
       "      <td>0.503458</td>\n",
       "      <td>-2.680669</td>\n",
       "      <td>6.655021e-01</td>\n",
       "      <td>1.465506e-01</td>\n",
       "      <td>1.548980</td>\n",
       "      <td>5.484909</td>\n",
       "      <td>-0.020496</td>\n",
       "      <td>1</td>\n",
       "    </tr>\n",
       "    <tr>\n",
       "      <th>...</th>\n",
       "      <td>...</td>\n",
       "      <td>...</td>\n",
       "      <td>...</td>\n",
       "      <td>...</td>\n",
       "      <td>...</td>\n",
       "      <td>...</td>\n",
       "      <td>...</td>\n",
       "      <td>...</td>\n",
       "      <td>...</td>\n",
       "    </tr>\n",
       "    <tr>\n",
       "      <th>763</th>\n",
       "      <td>1.827813</td>\n",
       "      <td>-0.680125</td>\n",
       "      <td>0.297376</td>\n",
       "      <td>2.145261e+00</td>\n",
       "      <td>2.877840e-01</td>\n",
       "      <td>0.064409</td>\n",
       "      <td>-0.908682</td>\n",
       "      <td>2.532136</td>\n",
       "      <td>0</td>\n",
       "    </tr>\n",
       "    <tr>\n",
       "      <th>764</th>\n",
       "      <td>-0.547919</td>\n",
       "      <td>0.010298</td>\n",
       "      <td>-0.198965</td>\n",
       "      <td>-2.451185e-01</td>\n",
       "      <td>-2.457063e-17</td>\n",
       "      <td>0.632039</td>\n",
       "      <td>-0.398282</td>\n",
       "      <td>-0.531023</td>\n",
       "      <td>0</td>\n",
       "    </tr>\n",
       "    <tr>\n",
       "      <th>765</th>\n",
       "      <td>0.342981</td>\n",
       "      <td>-0.022579</td>\n",
       "      <td>-0.033518</td>\n",
       "      <td>-7.004289e-01</td>\n",
       "      <td>-5.125386e-01</td>\n",
       "      <td>-0.910750</td>\n",
       "      <td>-0.685193</td>\n",
       "      <td>-0.275760</td>\n",
       "      <td>0</td>\n",
       "    </tr>\n",
       "    <tr>\n",
       "      <th>766</th>\n",
       "      <td>-0.844885</td>\n",
       "      <td>0.141808</td>\n",
       "      <td>-1.026200</td>\n",
       "      <td>7.327087e-17</td>\n",
       "      <td>-2.457063e-17</td>\n",
       "      <td>-0.343120</td>\n",
       "      <td>-0.371101</td>\n",
       "      <td>1.170732</td>\n",
       "      <td>1</td>\n",
       "    </tr>\n",
       "    <tr>\n",
       "      <th>767</th>\n",
       "      <td>-0.844885</td>\n",
       "      <td>-0.943143</td>\n",
       "      <td>-0.198965</td>\n",
       "      <td>2.101918e-01</td>\n",
       "      <td>-2.457063e-17</td>\n",
       "      <td>-0.299456</td>\n",
       "      <td>-0.473785</td>\n",
       "      <td>-0.871374</td>\n",
       "      <td>0</td>\n",
       "    </tr>\n",
       "  </tbody>\n",
       "</table>\n",
       "<p>768 rows × 9 columns</p>\n",
       "</div>"
      ],
      "text/plain": [
       "     Pregnancies   Glucose  BloodPressure  SkinThickness       Insulin  \\\n",
       "0       0.639947  0.865108      -0.033518   6.655021e-01 -2.457063e-17   \n",
       "1      -0.844885 -1.206162      -0.529859  -1.746338e-02 -2.457063e-17   \n",
       "2       1.233880  2.015813      -0.695306   7.327087e-17 -2.457063e-17   \n",
       "3      -0.844885 -1.074652      -0.529859  -7.004289e-01 -7.243887e-01   \n",
       "4      -1.141852  0.503458      -2.680669   6.655021e-01  1.465506e-01   \n",
       "..           ...       ...            ...            ...           ...   \n",
       "763     1.827813 -0.680125       0.297376   2.145261e+00  2.877840e-01   \n",
       "764    -0.547919  0.010298      -0.198965  -2.451185e-01 -2.457063e-17   \n",
       "765     0.342981 -0.022579      -0.033518  -7.004289e-01 -5.125386e-01   \n",
       "766    -0.844885  0.141808      -1.026200   7.327087e-17 -2.457063e-17   \n",
       "767    -0.844885 -0.943143      -0.198965   2.101918e-01 -2.457063e-17   \n",
       "\n",
       "          BMI  DiabetesPedigreeFunction       Age  Outcome  \n",
       "0    0.166292                  0.468492  1.425995        1  \n",
       "1   -0.852531                 -0.365061 -0.190672        0  \n",
       "2   -1.332833                  0.604397 -0.105584        1  \n",
       "3   -0.634212                 -0.920763 -1.041549        0  \n",
       "4    1.548980                  5.484909 -0.020496        1  \n",
       "..        ...                       ...       ...      ...  \n",
       "763  0.064409                 -0.908682  2.532136        0  \n",
       "764  0.632039                 -0.398282 -0.531023        0  \n",
       "765 -0.910750                 -0.685193 -0.275760        0  \n",
       "766 -0.343120                 -0.371101  1.170732        1  \n",
       "767 -0.299456                 -0.473785 -0.871374        0  \n",
       "\n",
       "[768 rows x 9 columns]"
      ]
     },
     "execution_count": 47,
     "metadata": {},
     "output_type": "execute_result"
    }
   ],
   "source": [
    "DB"
   ]
  },
  {
   "cell_type": "code",
   "execution_count": 7,
   "metadata": {},
   "outputs": [],
   "source": [
    "\n",
    "X = DB.loc[:, DB.columns != 'Outcome']\n",
    "y = DB.loc[:, 'Outcome']\n",
    "\n",
    "X_train, X_test, y_train, y_test = train_test_split(X, y, test_size = 0.2)"
   ]
  },
  {
   "cell_type": "code",
   "execution_count": 13,
   "metadata": {},
   "outputs": [],
   "source": [
    "from sklearn.linear_model import Perceptron\n",
    "from sklearn.model_selection import cross_val_score\n",
    "from sklearn.model_selection import RepeatedStratifiedKFold\n",
    "from numpy import mean\n",
    "from numpy import std\n",
    "\n",
    "Perceptron_model = Perceptron()"
   ]
  },
  {
   "cell_type": "code",
   "execution_count": 63,
   "metadata": {},
   "outputs": [
    {
     "name": "stdout",
     "output_type": "stream",
     "text": [
      "Perceptron Training Mean Accuracy: 0.68 (0.13)\n",
      "Perceptron Testing Mean Accuracy: 0.75 (0.24)\n"
     ]
    }
   ],
   "source": [
    "\n",
    "cv = RepeatedStratifiedKFold(n_splits=50, n_repeats=30, random_state=1)\n",
    "\n",
    "scores_train = cross_val_score(Perceptron_model, X_train, y_train, scoring='accuracy', cv=cv, n_jobs=-1)\n",
    "\n",
    "print('Perceptron Training Mean Accuracy: %.2f (%.2f)' % (mean(scores_train), std(scores_train)))\n",
    "\n",
    "scores_test = cross_val_score(Perceptron_model, X_test, y_test, scoring='accuracy', cv=cv, n_jobs=-1)\n",
    "\n",
    "print('Perceptron Testing Mean Accuracy: %.2f (%.2f)' % (mean(scores_test), std(scores_test)))\n"
   ]
  },
  {
   "cell_type": "code",
   "execution_count": 15,
   "metadata": {},
   "outputs": [],
   "source": [
    "Perceptron_model.fit(X_train,y_train)\n",
    "\n",
    "y_predicted = Perceptron_model.predict(X_test)\n",
    "\n",
    "c_matrix = confusion_matrix(y_test, y_predicted)\n"
   ]
  },
  {
   "cell_type": "code",
   "execution_count": 16,
   "metadata": {},
   "outputs": [
    {
     "data": {
      "image/png": "[encoded data removed]",
      "text/plain": [
       "<Figure size 432x288 with 1 Axes>"
      ]
     },
     "metadata": {
      "needs_background": "light"
     },
     "output_type": "display_data"
    },
    {
     "data": {
      "text/plain": [
       "<Figure size 432x288 with 0 Axes>"
      ]
     },
     "metadata": {},
     "output_type": "display_data"
    }
   ],
   "source": [
    "ax = sns.heatmap(c_matrix, annot = True, xticklabels = ['No Diabetes', 'Diabetes'], yticklabels = ['No Diabetes', 'Diabetes'], cbar = False, cmap = 'Blues')\n",
    "ax.set_xlabel(\"Prediction\")\n",
    "ax.set_ylabel(\"Actual\")\n",
    "plt.show()\n",
    "plt.clf()"
   ]
  },
  {
   "cell_type": "code",
   "execution_count": 32,
   "metadata": {
    "scrolled": true
   },
   "outputs": [
    {
     "data": {
      "image/png": "[encoded data removed]",
      "text/plain": [
       "<Figure size 432x288 with 1 Axes>"
      ]
     },
     "metadata": {
      "needs_background": "light"
     },
     "output_type": "display_data"
    },
    {
     "data": {
      "text/plain": [
       "<Figure size 432x288 with 0 Axes>"
      ]
     },
     "metadata": {},
     "output_type": "display_data"
    }
   ],
   "source": [
    "FPR, TPR, _ = roc_curve(y_test, y_predicted)\n",
    "plt.plot(FPR, TPR)\n",
    "\n",
    "plt.plot([0,1],[0,1],'-', color='red')\n",
    "plt.title('ROC Curve')\n",
    "plt.xlabel('False Positive Rate')\n",
    "plt.ylabel('True Positive Rate')\n",
    "plt.show()\n",
    "plt.clf()"
   ]
  },
  {
   "cell_type": "code",
   "execution_count": null,
   "metadata": {},
   "outputs": [],
   "source": []
  },
  {
   "cell_type": "code",
   "execution_count": 56,
   "metadata": {},
   "outputs": [
    {
     "data": {
      "text/plain": [
       "<keras.callbacks.History at 0x19645d4a3a0>"
      ]
     },
     "execution_count": 56,
     "metadata": {},
     "output_type": "execute_result"
    }
   ],
   "source": [
    "# Multi layers model\n",
    "\n",
    "Multi_layers_model = Sequential()\n",
    "Multi_layers_model.add(Dense(32, activation = 'relu', input_dim = 8))\n",
    "Multi_layers_model.add(Dense(16, activation = 'relu'))\n",
    "Multi_layers_model.add(Dense(1, activation = 'sigmoid'))\n",
    "\n",
    "Multi_layers_model.compile(optimizer = 'adam', loss = 'binary_crossentropy', metrics = ['accuracy'])\n",
    "Multi_layers_model.fit(X_train, y_train, epochs = 500, verbose = False)"
   ]
  },
  {
   "cell_type": "code",
   "execution_count": 64,
   "metadata": {},
   "outputs": [
    {
     "name": "stdout",
     "output_type": "stream",
     "text": [
      "Multi_layers_model Training Accuracy: 98.53%\n",
      "Multi_layers_model Testing Accuracy: 80.52%\n"
     ]
    }
   ],
   "source": [
    "scores = Multi_layers_model.evaluate(X_train, y_train, verbose = False)\n",
    "print(\"Multi_layers_model Training Accuracy: %.2f%%\" % (scores[1] * 100))\n",
    "scores = Multi_layers_model.evaluate(X_test, y_test, verbose = False)\n",
    "print(\"Multi_layers_model Testing Accuracy: %.2f%%\" % (scores[1] * 100))"
   ]
  }
 ],
 "metadata": {
  "kernelspec": {
   "display_name": "Python 3",
   "language": "python",
   "name": "python3"
  },
  "language_info": {
   "codemirror_mode": {
    "name": "ipython",
    "version": 3
   },
   "file_extension": ".py",
   "mimetype": "text/x-python",
   "name": "python",
   "nbconvert_exporter": "python",
   "pygments_lexer": "ipython3",
   "version": "3.8.5"
  }
 },
 "nbformat": 4,
 "nbformat_minor": 4
}
